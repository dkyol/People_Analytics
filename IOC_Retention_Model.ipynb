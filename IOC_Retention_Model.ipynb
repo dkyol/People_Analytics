{
 "cells": [
  {
   "cell_type": "code",
   "execution_count": 1,
   "metadata": {},
   "outputs": [],
   "source": [
    "import pandas as pd\n",
    "import numpy as np\n",
    "import matplotlib.pyplot as plt\n",
    "from sklearn.model_selection import train_test_split\n",
    "\n",
    "import tensorflow.keras\n",
    "from tensorflow.keras.models import Sequential \n",
    "from tensorflow.keras.layers import Dense, Activation, Dropout\n",
    "from tensorflow.keras import losses, optimizers, metrics\n",
    "\n",
    "from tensorflow.keras.callbacks import ModelCheckpoint \n",
    "\n",
    "from sklearn.metrics import confusion_matrix\n",
    "\n",
    "from tensorflow.keras import backend as K"
   ]
  },
  {
   "cell_type": "code",
   "execution_count": 2,
   "metadata": {},
   "outputs": [],
   "source": [
    "data = pd.read_csv('C:/Users/604070/Desktop/Files/Performance/OPM_HR_Analytics/Dataset/opm_raw.txt', low_memory=False)"
   ]
  },
  {
   "cell_type": "code",
   "execution_count": 3,
   "metadata": {},
   "outputs": [],
   "source": [
    "def pre_process(df):\n",
    "    \n",
    "    data = df.iloc[:,2:]\n",
    "    \n",
    "    data.rename(columns = {'ACCT.1': 'quit_label'}, inplace=True)\n",
    "    \n",
    "    data['Year'] = data['EFDATET'].apply(lambda x: x[4:])\n",
    "    data['Month'] = data['EFDATET'].apply(lambda x: x[:2])\n",
    "    data['QTRT'] = data['QTRT'].apply(lambda x: x[:7])\n",
    "    data['GSEGRD'] = data['GSEGRD'].astype(str)\n",
    "    \n",
    "    data.drop(['COUNT','EFDATET','FYT', 'OCCTYPT', 'LOS', 'SALARY'], axis=1, inplace=True)\n",
    "    \n",
    "    y = pd.get_dummies(data['quit_label'])\n",
    "    \n",
    "    data_dummy = pd.get_dummies(data[['AGELVLT', 'AGYSUBT', 'AGYT', 'AGYTYPT',\n",
    "       'GSEGRD', 'LOCT', 'LOCTYPT', 'LOSLVLT', 'OCCFAMT', 'OCCT', 'PATCOT', 'PAYPLANT', 'PPGRD', 'PPGROUPT', 'QTRT',\n",
    "       'SALLVLT', 'TOAT', 'TOATYPT', 'WORKSCHT', 'WSTYPT','Year', 'Month']]) \n",
    "       \n",
    "    return data_dummy, y"
   ]
  },
  {
   "cell_type": "code",
   "execution_count": 4,
   "metadata": {},
   "outputs": [],
   "source": [
    "X, y = pre_process(data)"
   ]
  },
  {
   "cell_type": "code",
   "execution_count": 5,
   "metadata": {},
   "outputs": [],
   "source": [
    "X_base, X_test, y_base, y_test = train_test_split(X, y, test_size=0.1, random_state=305)\n",
    "\n",
    "X_train, X_val, y_train, y_val = train_test_split(X_base, y_base, test_size=0.1, random_state=305)"
   ]
  },
  {
   "cell_type": "code",
   "execution_count": 14,
   "metadata": {},
   "outputs": [
    {
     "name": "stdout",
     "output_type": "stream",
     "text": [
      "_________________________________________________________________\n",
      "Layer (type)                 Output Shape              Param #   \n",
      "=================================================================\n",
      "dense_4 (Dense)              (None, 1400)              1981000   \n",
      "_________________________________________________________________\n",
      "activation_3 (Activation)    (None, 1400)              0         \n",
      "_________________________________________________________________\n",
      "dropout_3 (Dropout)          (None, 1400)              0         \n",
      "_________________________________________________________________\n",
      "dense_5 (Dense)              (None, 700)               980700    \n",
      "_________________________________________________________________\n",
      "activation_4 (Activation)    (None, 700)               0         \n",
      "_________________________________________________________________\n",
      "dropout_4 (Dropout)          (None, 700)               0         \n",
      "_________________________________________________________________\n",
      "dense_6 (Dense)              (None, 150)               105150    \n",
      "_________________________________________________________________\n",
      "activation_5 (Activation)    (None, 150)               0         \n",
      "_________________________________________________________________\n",
      "dropout_5 (Dropout)          (None, 150)               0         \n",
      "_________________________________________________________________\n",
      "dense_7 (Dense)              (None, 2)                 302       \n",
      "=================================================================\n",
      "Total params: 3,067,152\n",
      "Trainable params: 3,067,152\n",
      "Non-trainable params: 0\n",
      "_________________________________________________________________\n"
     ]
    }
   ],
   "source": [
    "# Model\n",
    "\n",
    "model = Sequential()\n",
    "\n",
    "# input/ hidden  \n",
    "\n",
    "model.add(Dense(1400, input_shape=(X_train.shape[1],)))\n",
    "model.add(Activation('relu'))\n",
    "model.add(Dropout(.2))\n",
    "\n",
    "# hidden layer\n",
    "\n",
    "model.add(Dense(700))\n",
    "model.add(Activation('relu'))\n",
    "model.add(Dropout(.2))\n",
    "\n",
    "# hidden layer \n",
    "\n",
    "model.add(Dense(150))\n",
    "model.add(Activation('relu'))\n",
    "model.add(Dropout(.2))\n",
    "\n",
    "# output layer \n",
    "\n",
    "model.add(Dense(2, activation='softmax'))\n",
    "\n",
    "model.summary()\n"
   ]
  },
  {
   "cell_type": "code",
   "execution_count": 15,
   "metadata": {},
   "outputs": [],
   "source": [
    "def precision(y_true, y_pred):\n",
    "    \n",
    "    true_positives = K.sum(K.round(K.clip(y_true * y_pred, 0, 1)))\n",
    "    \n",
    "    predicted_positives = K.sum(K.round(K.clip(y_pred, 0, 1)))\n",
    "    \n",
    "    precision = true_positives / (predicted_positives + K.epsilon())\n",
    "    \n",
    "    return precision\n"
   ]
  },
  {
   "cell_type": "code",
   "execution_count": 16,
   "metadata": {},
   "outputs": [
    {
     "name": "stdout",
     "output_type": "stream",
     "text": [
      "Train on 1679234 samples, validate on 186582 samples\n",
      "Epoch 1/25\n",
      "1679234/1679234 [==============================] - 650s 387us/step - loss: 0.3410 - precision: 0.8582 - val_loss: 0.3218 - val_precision: 0.8668\n",
      "Epoch 2/25\n",
      "1679234/1679234 [==============================] - 633s 377us/step - loss: 0.3238 - precision: 0.8657 - val_loss: 0.3194 - val_precision: 0.8675\n",
      "Epoch 3/25\n",
      "1679234/1679234 [==============================] - 625s 372us/step - loss: 0.3171 - precision: 0.8688 - val_loss: 0.3112 - val_precision: 0.8708\n",
      "Epoch 4/25\n",
      "1679234/1679234 [==============================] - 623s 371us/step - loss: 0.3123 - precision: 0.8710 - val_loss: 0.3084 - val_precision: 0.8729\n",
      "Epoch 5/25\n",
      "1679234/1679234 [==============================] - 623s 371us/step - loss: 0.3084 - precision: 0.8726 - val_loss: 0.3063 - val_precision: 0.8732\n",
      "Epoch 6/25\n",
      "1679234/1679234 [==============================] - 620s 369us/step - loss: 0.3053 - precision: 0.8741 - val_loss: 0.3060 - val_precision: 0.8748\n",
      "Epoch 7/25\n",
      "1679234/1679234 [==============================] - 621s 370us/step - loss: 0.3025 - precision: 0.8751 - val_loss: 0.3039 - val_precision: 0.8749\n",
      "Epoch 8/25\n",
      "1679234/1679234 [==============================] - 621s 370us/step - loss: 0.2996 - precision: 0.8766 - val_loss: 0.3027 - val_precision: 0.8750\n",
      "Epoch 9/25\n",
      "1679234/1679234 [==============================] - 624s 372us/step - loss: 0.2972 - precision: 0.8778 - val_loss: 0.3042 - val_precision: 0.8741\n",
      "Epoch 10/25\n",
      "1679234/1679234 [==============================] - 623s 371us/step - loss: 0.2948 - precision: 0.8787 - val_loss: 0.3013 - val_precision: 0.8764\n",
      "Epoch 11/25\n",
      "1679234/1679234 [==============================] - 636s 379us/step - loss: 0.2923 - precision: 0.8797 - val_loss: 0.3033 - val_precision: 0.8750\n",
      "Epoch 12/25\n",
      "1679234/1679234 [==============================] - 624s 372us/step - loss: 0.2903 - precision: 0.8806 - val_loss: 0.3016 - val_precision: 0.8762\n",
      "Epoch 13/25\n",
      "1679234/1679234 [==============================] - 624s 372us/step - loss: 0.2880 - precision: 0.8816 - val_loss: 0.3009 - val_precision: 0.8762\n",
      "Epoch 14/25\n",
      "1679234/1679234 [==============================] - 624s 371us/step - loss: 0.2857 - precision: 0.8828 - val_loss: 0.3048 - val_precision: 0.8737\n",
      "Epoch 15/25\n",
      "1679234/1679234 [==============================] - 625s 372us/step - loss: 0.2838 - precision: 0.8835 - val_loss: 0.3025 - val_precision: 0.8762\n",
      "Epoch 16/25\n",
      "1679234/1679234 [==============================] - 627s 373us/step - loss: 0.2815 - precision: 0.8845 - val_loss: 0.3024 - val_precision: 0.8755\n",
      "Epoch 17/25\n",
      "1679234/1679234 [==============================] - 627s 374us/step - loss: 0.2792 - precision: 0.8857 - val_loss: 0.3032 - val_precision: 0.8761\n",
      "Epoch 18/25\n",
      "1679234/1679234 [==============================] - 629s 375us/step - loss: 0.2773 - precision: 0.8862 - val_loss: 0.3041 - val_precision: 0.8750\n",
      "Epoch 19/25\n",
      "1679234/1679234 [==============================] - 628s 374us/step - loss: 0.2749 - precision: 0.8873 - val_loss: 0.3060 - val_precision: 0.8745\n",
      "Epoch 20/25\n",
      "1679234/1679234 [==============================] - 628s 374us/step - loss: 0.2731 - precision: 0.8881 - val_loss: 0.3036 - val_precision: 0.8755\n",
      "Epoch 21/25\n",
      "1679234/1679234 [==============================] - 635s 378us/step - loss: 0.2708 - precision: 0.8890 - val_loss: 0.3061 - val_precision: 0.8750\n",
      "Epoch 22/25\n",
      "1679234/1679234 [==============================] - 628s 374us/step - loss: 0.2689 - precision: 0.8897 - val_loss: 0.3062 - val_precision: 0.8753\n",
      "Epoch 23/25\n",
      "1679234/1679234 [==============================] - 632s 377us/step - loss: 0.2664 - precision: 0.8908 - val_loss: 0.3074 - val_precision: 0.8737\n",
      "Epoch 24/25\n",
      "1679234/1679234 [==============================] - 629s 375us/step - loss: 0.2646 - precision: 0.8917 - val_loss: 0.3093 - val_precision: 0.8731\n",
      "Epoch 25/25\n",
      "1679234/1679234 [==============================] - 630s 375us/step - loss: 0.2625 - precision: 0.8926 - val_loss: 0.3102 - val_precision: 0.8748\n"
     ]
    }
   ],
   "source": [
    "epochs = 25\n",
    "batch_size = 100\n",
    "learning_rate = .01\n",
    "\n",
    "sgd = optimizers.SGD(lr=learning_rate, decay=1e-6, momentum=0.9)\n",
    "\n",
    "#categorical-cross entropy \n",
    "\n",
    "model.compile(loss='categorical_crossentropy',\n",
    "                  optimizer=sgd,\n",
    "                  metrics=[precision])\n",
    "\n",
    "fitted_model = model.fit(X_train, y_train, \n",
    "              batch_size=batch_size,\n",
    "              validation_data=(X_val, y_val), \n",
    "              epochs=epochs,\n",
    "              #callbacks=[best_weights],\n",
    "              verbose=1)"
   ]
  },
  {
   "cell_type": "code",
   "execution_count": 17,
   "metadata": {},
   "outputs": [
    {
     "data": {
      "image/png": "[encoded data removed]",
      "text/plain": [
       "<Figure size 432x288 with 1 Axes>"
      ]
     },
     "metadata": {
      "needs_background": "light"
     },
     "output_type": "display_data"
    }
   ],
   "source": [
    "# precision plot\n",
    "#fitted_model.history\n",
    "\n",
    "plt.plot(fitted_model.history['precision'])\n",
    "plt.plot(fitted_model.history['val_precision'])\n",
    "plt.title('model precision')\n",
    "plt.ylabel('precision')\n",
    "plt.xlabel('epoch')\n",
    "plt.legend(['train precision', 'val precision'], loc='lower right')\n",
    "plt.show()\n"
   ]
  },
  {
   "cell_type": "code",
   "execution_count": 18,
   "metadata": {},
   "outputs": [
    {
     "data": {
      "image/png": "[encoded data removed]",
      "text/plain": [
       "<Figure size 432x288 with 1 Axes>"
      ]
     },
     "metadata": {
      "needs_background": "light"
     },
     "output_type": "display_data"
    }
   ],
   "source": [
    "plt.plot(fitted_model.history['loss'])\n",
    "plt.plot(fitted_model.history['val_loss'])\n",
    "plt.title('model loss')\n",
    "plt.ylabel('precision')\n",
    "plt.xlabel('epoch')\n",
    "plt.legend(['train loss', 'val loss'], loc='upper right')\n",
    "plt.show()"
   ]
  },
  {
   "cell_type": "code",
   "execution_count": 19,
   "metadata": {},
   "outputs": [],
   "source": [
    "predictions = model.predict(X_test)"
   ]
  },
  {
   "cell_type": "code",
   "execution_count": 20,
   "metadata": {},
   "outputs": [],
   "source": [
    "conf_table = confusion_matrix(np.argmax(y_test.values, axis=1), np.argmax(predictions, axis = 1))"
   ]
  },
  {
   "cell_type": "code",
   "execution_count": 21,
   "metadata": {},
   "outputs": [
    {
     "name": "stdout",
     "output_type": "stream",
     "text": [
      "Accuracy... 87.32351565024867\n",
      "Precision... 70.32340789286224\n",
      "[[166225   6249]\n",
      " [ 20031  14808]]\n"
     ]
    },
    {
     "data": {
      "text/plain": [
       "<Figure size 432x288 with 0 Axes>"
      ]
     },
     "metadata": {},
     "output_type": "display_data"
    },
    {
     "data": {
      "image/png": "[encoded data removed]",
      "text/plain": [
       "<Figure size 288x288 with 2 Axes>"
      ]
     },
     "metadata": {
      "needs_background": "light"
     },
     "output_type": "display_data"
    }
   ],
   "source": [
    "plt.figure()\n",
    "\n",
    "tn, fp, fn, tp = confusion_matrix(np.argmax(y_test.values, axis=1), np.argmax(predictions, axis = 1)).ravel()\n",
    "\n",
    "print('Accuracy...', (tn + tp) / (tn + fp + fn + tp) * 100)\n",
    "\n",
    "print('Precision...', (tp) / (fp + tp) * 100)\n",
    "\n",
    "print(conf_table)\n",
    "\n",
    "plt.colorbar(plt.matshow(conf_table))\n",
    "\n",
    "plt.ylabel('actual')\n",
    "plt.xlabel('predicted')\n",
    "\n",
    "\n",
    "plt.show()"
   ]
  }
 ],
 "metadata": {
  "kernelspec": {
   "display_name": "Python 3",
   "language": "python",
   "name": "python3"
  },
  "language_info": {
   "codemirror_mode": {
    "name": "ipython",
    "version": 3
   },
   "file_extension": ".py",
   "mimetype": "text/x-python",
   "name": "python",
   "nbconvert_exporter": "python",
   "pygments_lexer": "ipython3",
   "version": "3.6.7"
  }
 },
 "nbformat": 4,
 "nbformat_minor": 2
}
