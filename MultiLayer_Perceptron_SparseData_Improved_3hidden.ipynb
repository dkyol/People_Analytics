{
 "cells": [
  {
   "cell_type": "code",
   "execution_count": 1,
   "metadata": {},
   "outputs": [],
   "source": [
    "import pandas as pd\n",
    "import numpy as np\n",
    "import matplotlib.pyplot as plt\n",
    "\n",
    "data = pd.read_csv('C:/.../opm_raw.txt', low_memory=False)\n",
    "\n",
    "def pre_process(df):\n",
    "    \n",
    "    data = df.iloc[:,2:]\n",
    "    \n",
    "    data['Year'] = data['EFDATET'].apply(lambda x: x[4:])\n",
    "    data['Month'] = data['EFDATET'].apply(lambda x: x[:2])\n",
    "    data['QTRT'] = data['QTRT'].apply(lambda x: x[:7])\n",
    "    \n",
    "    data_dummy = pd.get_dummies(data[['AGELVLT', 'AGYSUBT', 'AGYT', 'AGYTYPT', 'COUNT', 'FYT',\n",
    "       'GSEGRD', 'LOCT', 'LOCTYPT', 'LOS', 'LOSLVLT', 'OCCFAMT', 'OCCT',\n",
    "       'OCCTYPT', 'PATCOT', 'PAYPLANT', 'PPGRD', 'PPGROUPT', 'QTRT', 'SALARY',\n",
    "       'SALLVLT', 'TOAT', 'TOATYPT', 'WORKSCHT', 'WSTYPT', 'ACCT.1',\n",
    "       'Year', 'Month']])\n",
    "    \n",
    "    whole = pd.concat([data_dummy, data['EFDATET']], axis = 1)\n",
    "    # 2017 data removed for testing data \n",
    "    test_data = whole[whole['Year_2017'] == 1]\n",
    "    \n",
    "    train_data = whole[whole['Year_2017'] != 1]\n",
    "    \n",
    "    test_data = test_data.drop(['Year_2017'], axis = 1)\n",
    "    \n",
    "    train_data = train_data.drop(['Year_2017'], axis = 1)\n",
    "    \n",
    "    return train_data, test_data\n",
    "\n",
    "\n",
    "def normalize(df):\n",
    "    \n",
    "    df = df.groupby('EFDATET').sum()\n",
    "    \n",
    "    for col in list(df.columns):\n",
    "       \n",
    "        mean, std = df[col].mean(), df[col].std()\n",
    "\n",
    "        df.loc[:, col] = (df[col] -mean) /(std + 1) \n",
    "        \n",
    "    \n",
    "        \n",
    "    y = df['ACCT.1'].reset_index().iloc[:,1]\n",
    "    \n",
    "    y = y.values\n",
    "    \n",
    "    X = df.drop(['ACCT.1'], axis = 1).reset_index().iloc[:,1:]\n",
    "    \n",
    "    X = X.values\n",
    "        \n",
    "    return X, y, df  \n",
    "    \n"
   ]
  },
  {
   "cell_type": "code",
   "execution_count": 2,
   "metadata": {},
   "outputs": [],
   "source": [
    "train, test = pre_process(data)"
   ]
  },
  {
   "cell_type": "code",
   "execution_count": 3,
   "metadata": {},
   "outputs": [],
   "source": [
    "X_train, y_train, df_train = normalize(train)"
   ]
  },
  {
   "cell_type": "code",
   "execution_count": 4,
   "metadata": {},
   "outputs": [],
   "source": [
    "X_test, y_test, df_test = normalize(test)"
   ]
  },
  {
   "cell_type": "code",
   "execution_count": 5,
   "metadata": {},
   "outputs": [],
   "source": [
    "import tensorflow\n",
    "from tensorflow.keras.models import Sequential \n",
    "from tensorflow.keras.layers import Dense, Activation\n",
    "from tensorflow.keras import losses\n",
    "from tensorflow.keras import optimizers\n",
    "from tensorflow.keras.callbacks import ModelCheckpoint "
   ]
  },
  {
   "cell_type": "code",
   "execution_count": 6,
   "metadata": {},
   "outputs": [
    {
     "name": "stdout",
     "output_type": "stream",
     "text": [
      "_________________________________________________________________\n",
      "Layer (type)                 Output Shape              Param #   \n",
      "=================================================================\n",
      "dense (Dense)                (None, 1400)              1976800   \n",
      "_________________________________________________________________\n",
      "activation (Activation)      (None, 1400)              0         \n",
      "_________________________________________________________________\n",
      "dense_1 (Dense)              (None, 700)               980700    \n",
      "_________________________________________________________________\n",
      "activation_1 (Activation)    (None, 700)               0         \n",
      "_________________________________________________________________\n",
      "dense_2 (Dense)              (None, 150)               105150    \n",
      "_________________________________________________________________\n",
      "activation_2 (Activation)    (None, 150)               0         \n",
      "_________________________________________________________________\n",
      "dense_3 (Dense)              (None, 1)                 151       \n",
      "=================================================================\n",
      "Total params: 3,062,801\n",
      "Trainable params: 3,062,801\n",
      "Non-trainable params: 0\n",
      "_________________________________________________________________\n",
      "None\n",
      "Train on 75 samples, validate on 9 samples\n",
      "Epoch 1/50\n",
      "75/75 [==============================] - 1s 10ms/step - loss: 1.4105 - mean_squared_error: 1.4105 - val_loss: 0.5342 - val_mean_squared_error: 0.5342\n",
      "Epoch 2/50\n",
      "75/75 [==============================] - 0s 549us/step - loss: 0.7455 - mean_squared_error: 0.7455 - val_loss: 0.4998 - val_mean_squared_error: 0.4998\n",
      "Epoch 3/50\n",
      "75/75 [==============================] - 0s 572us/step - loss: 0.5109 - mean_squared_error: 0.5109 - val_loss: 0.4698 - val_mean_squared_error: 0.4698\n",
      "Epoch 4/50\n",
      "75/75 [==============================] - 0s 548us/step - loss: 0.3778 - mean_squared_error: 0.3778 - val_loss: 0.4548 - val_mean_squared_error: 0.4548\n",
      "Epoch 5/50\n",
      "75/75 [==============================] - 0s 493us/step - loss: 0.2891 - mean_squared_error: 0.2891 - val_loss: 0.4433 - val_mean_squared_error: 0.4433\n",
      "Epoch 6/50\n",
      "75/75 [==============================] - 0s 533us/step - loss: 0.2261 - mean_squared_error: 0.2261 - val_loss: 0.4342 - val_mean_squared_error: 0.4342\n",
      "Epoch 7/50\n",
      "75/75 [==============================] - 0s 475us/step - loss: 0.1793 - mean_squared_error: 0.1793 - val_loss: 0.4275 - val_mean_squared_error: 0.4275\n",
      "Epoch 8/50\n",
      "75/75 [==============================] - 0s 581us/step - loss: 0.1436 - mean_squared_error: 0.1436 - val_loss: 0.4209 - val_mean_squared_error: 0.4209\n",
      "Epoch 9/50\n",
      "75/75 [==============================] - 0s 524us/step - loss: 0.1149 - mean_squared_error: 0.1149 - val_loss: 0.4146 - val_mean_squared_error: 0.4146\n",
      "Epoch 10/50\n",
      "75/75 [==============================] - 0s 495us/step - loss: 0.0929 - mean_squared_error: 0.0929 - val_loss: 0.4097 - val_mean_squared_error: 0.4097\n",
      "Epoch 11/50\n",
      "75/75 [==============================] - 0s 543us/step - loss: 0.0760 - mean_squared_error: 0.0760 - val_loss: 0.4057 - val_mean_squared_error: 0.4057\n",
      "Epoch 12/50\n",
      "75/75 [==============================] - 0s 495us/step - loss: 0.0625 - mean_squared_error: 0.0625 - val_loss: 0.4017 - val_mean_squared_error: 0.4017\n",
      "Epoch 13/50\n",
      "75/75 [==============================] - 0s 504us/step - loss: 0.0517 - mean_squared_error: 0.0517 - val_loss: 0.3989 - val_mean_squared_error: 0.3989\n",
      "Epoch 14/50\n",
      "75/75 [==============================] - 0s 471us/step - loss: 0.0430 - mean_squared_error: 0.0430 - val_loss: 0.3955 - val_mean_squared_error: 0.3955\n",
      "Epoch 15/50\n",
      "75/75 [==============================] - 0s 486us/step - loss: 0.0357 - mean_squared_error: 0.0357 - val_loss: 0.3930 - val_mean_squared_error: 0.3930\n",
      "Epoch 16/50\n",
      "75/75 [==============================] - 0s 472us/step - loss: 0.0299 - mean_squared_error: 0.0299 - val_loss: 0.3907 - val_mean_squared_error: 0.3907\n",
      "Epoch 17/50\n",
      "75/75 [==============================] - 0s 557us/step - loss: 0.0251 - mean_squared_error: 0.0251 - val_loss: 0.3888 - val_mean_squared_error: 0.3888\n",
      "Epoch 18/50\n",
      "75/75 [==============================] - 0s 424us/step - loss: 0.0212 - mean_squared_error: 0.0212 - val_loss: 0.3867 - val_mean_squared_error: 0.3867\n",
      "Epoch 19/50\n",
      "75/75 [==============================] - 0s 480us/step - loss: 0.0180 - mean_squared_error: 0.0180 - val_loss: 0.3848 - val_mean_squared_error: 0.3848\n",
      "Epoch 20/50\n",
      "75/75 [==============================] - 0s 442us/step - loss: 0.0154 - mean_squared_error: 0.0154 - val_loss: 0.3834 - val_mean_squared_error: 0.3834\n",
      "Epoch 21/50\n",
      "75/75 [==============================] - 0s 490us/step - loss: 0.0132 - mean_squared_error: 0.0132 - val_loss: 0.3819 - val_mean_squared_error: 0.3819\n",
      "Epoch 22/50\n",
      "75/75 [==============================] - 0s 409us/step - loss: 0.0113 - mean_squared_error: 0.0113 - val_loss: 0.3807 - val_mean_squared_error: 0.3807\n",
      "Epoch 23/50\n",
      "75/75 [==============================] - 0s 491us/step - loss: 0.0098 - mean_squared_error: 0.0098 - val_loss: 0.3797 - val_mean_squared_error: 0.3797\n",
      "Epoch 24/50\n",
      "75/75 [==============================] - 0s 406us/step - loss: 0.0084 - mean_squared_error: 0.0084 - val_loss: 0.3786 - val_mean_squared_error: 0.3786\n",
      "Epoch 25/50\n",
      "75/75 [==============================] - 0s 551us/step - loss: 0.0073 - mean_squared_error: 0.0073 - val_loss: 0.3777 - val_mean_squared_error: 0.3777\n",
      "Epoch 26/50\n",
      "75/75 [==============================] - 0s 469us/step - loss: 0.0064 - mean_squared_error: 0.0064 - val_loss: 0.3769 - val_mean_squared_error: 0.3769\n",
      "Epoch 27/50\n",
      "75/75 [==============================] - 0s 402us/step - loss: 0.0056 - mean_squared_error: 0.0056 - val_loss: 0.3762 - val_mean_squared_error: 0.3762\n",
      "Epoch 28/50\n",
      "75/75 [==============================] - 0s 534us/step - loss: 0.0048 - mean_squared_error: 0.0048 - val_loss: 0.3756 - val_mean_squared_error: 0.3756\n",
      "Epoch 29/50\n",
      "75/75 [==============================] - 0s 464us/step - loss: 0.0043 - mean_squared_error: 0.0043 - val_loss: 0.3749 - val_mean_squared_error: 0.3749\n",
      "Epoch 30/50\n",
      "75/75 [==============================] - 0s 419us/step - loss: 0.0037 - mean_squared_error: 0.0037 - val_loss: 0.3744 - val_mean_squared_error: 0.3744\n",
      "Epoch 31/50\n",
      "75/75 [==============================] - 0s 467us/step - loss: 0.0033 - mean_squared_error: 0.0033 - val_loss: 0.3739 - val_mean_squared_error: 0.3739\n",
      "Epoch 32/50\n",
      "75/75 [==============================] - 0s 370us/step - loss: 0.0029 - mean_squared_error: 0.0029 - val_loss: 0.3734 - val_mean_squared_error: 0.3734\n",
      "Epoch 33/50\n",
      "75/75 [==============================] - 0s 426us/step - loss: 0.0026 - mean_squared_error: 0.0026 - val_loss: 0.3730 - val_mean_squared_error: 0.3730\n",
      "Epoch 34/50\n",
      "75/75 [==============================] - 0s 576us/step - loss: 0.0023 - mean_squared_error: 0.0023 - val_loss: 0.3727 - val_mean_squared_error: 0.3727\n",
      "Epoch 35/50\n",
      "75/75 [==============================] - 0s 423us/step - loss: 0.0020 - mean_squared_error: 0.0020 - val_loss: 0.3724 - val_mean_squared_error: 0.3724\n",
      "Epoch 36/50\n",
      "75/75 [==============================] - 0s 438us/step - loss: 0.0018 - mean_squared_error: 0.0018 - val_loss: 0.3720 - val_mean_squared_error: 0.3720\n",
      "Epoch 37/50\n",
      "75/75 [==============================] - 0s 482us/step - loss: 0.0016 - mean_squared_error: 0.0016 - val_loss: 0.3718 - val_mean_squared_error: 0.3718\n",
      "Epoch 38/50\n",
      "75/75 [==============================] - 0s 420us/step - loss: 0.0014 - mean_squared_error: 0.0014 - val_loss: 0.3715 - val_mean_squared_error: 0.3715\n",
      "Epoch 39/50\n",
      "75/75 [==============================] - 0s 441us/step - loss: 0.0013 - mean_squared_error: 0.0013 - val_loss: 0.3714 - val_mean_squared_error: 0.3714\n",
      "Epoch 40/50\n",
      "75/75 [==============================] - 0s 489us/step - loss: 0.0011 - mean_squared_error: 0.0011 - val_loss: 0.3712 - val_mean_squared_error: 0.3712\n",
      "Epoch 41/50\n",
      "75/75 [==============================] - 0s 432us/step - loss: 9.9537e-04 - mean_squared_error: 9.9537e-04 - val_loss: 0.3710 - val_mean_squared_error: 0.3710\n",
      "Epoch 42/50\n",
      "75/75 [==============================] - 0s 396us/step - loss: 8.8920e-04 - mean_squared_error: 8.8920e-04 - val_loss: 0.3709 - val_mean_squared_error: 0.3709\n",
      "Epoch 43/50\n",
      "75/75 [==============================] - 0s 450us/step - loss: 7.9517e-04 - mean_squared_error: 7.9517e-04 - val_loss: 0.3707 - val_mean_squared_error: 0.3707\n"
     ]
    },
    {
     "name": "stdout",
     "output_type": "stream",
     "text": [
      "Epoch 44/50\n",
      "75/75 [==============================] - 0s 524us/step - loss: 7.1185e-04 - mean_squared_error: 7.1185e-04 - val_loss: 0.3706 - val_mean_squared_error: 0.3706\n",
      "Epoch 45/50\n",
      "75/75 [==============================] - 0s 460us/step - loss: 6.3755e-04 - mean_squared_error: 6.3755e-04 - val_loss: 0.3704 - val_mean_squared_error: 0.3704\n",
      "Epoch 46/50\n",
      "75/75 [==============================] - 0s 446us/step - loss: 5.7141e-04 - mean_squared_error: 5.7141e-04 - val_loss: 0.3703 - val_mean_squared_error: 0.3703\n",
      "Epoch 47/50\n",
      "75/75 [==============================] - 0s 467us/step - loss: 5.1255e-04 - mean_squared_error: 5.1255e-04 - val_loss: 0.3703 - val_mean_squared_error: 0.3703\n",
      "Epoch 48/50\n",
      "75/75 [==============================] - 0s 440us/step - loss: 4.6009e-04 - mean_squared_error: 4.6009e-04 - val_loss: 0.3702 - val_mean_squared_error: 0.3702\n",
      "Epoch 49/50\n",
      "75/75 [==============================] - 0s 429us/step - loss: 4.1350e-04 - mean_squared_error: 4.1350e-04 - val_loss: 0.3701 - val_mean_squared_error: 0.3701\n",
      "Epoch 50/50\n",
      "75/75 [==============================] - 0s 548us/step - loss: 3.7145e-04 - mean_squared_error: 3.7145e-04 - val_loss: 0.3700 - val_mean_squared_error: 0.3700\n"
     ]
    }
   ],
   "source": [
    "# instantiate model \n",
    "\n",
    "epochs = 50\n",
    "batch_size = 75\n",
    "learning_rate = .005\n",
    "\n",
    "model = Sequential()\n",
    "\n",
    "# input/ hidden  \n",
    "\n",
    "model.add(Dense(1400, input_shape=(train.shape[1]-2,)))\n",
    "model.add(Activation('relu'))\n",
    "\n",
    "# hidden layer\n",
    "\n",
    "model.add(Dense(700))\n",
    "model.add(Activation('relu'))\n",
    "\n",
    "# hidden layer \n",
    "\n",
    "model.add(Dense(150))\n",
    "model.add(Activation('relu'))\n",
    "\n",
    "# output layer \n",
    "\n",
    "model.add(Dense(1))\n",
    "print(model.summary())\n",
    "\n",
    "sgd = optimizers.SGD(lr=learning_rate)\n",
    "model.compile(loss=losses.mean_squared_error,\n",
    "                  optimizer=sgd,\n",
    "                  metrics=['mean_squared_error'])\n",
    "'''# save weights\n",
    "best_weights = ModelCheckpoint(filepath='C:/Users/604070/Desktop/Files/Opm_Web_App/weights/best.hdf5', verbose=1, save_best_only=True)'''\n",
    "\n",
    "\n",
    "fitted_model = model.fit(X_train, y_train, \n",
    "              batch_size=batch_size,\n",
    "              validation_data=(X_test, y_test), \n",
    "              epochs=epochs,\n",
    "              #callbacks=[best_weights],\n",
    "              verbose=1)\n",
    "\n",
    "'''#save model \n",
    "saved_model = model.to_json()\n",
    "with open('C:/Users/604070/Desktop/Files/Opm_Web_App/model/model.json', 'w') as json:\n",
    "    json.write(saved_model)'''\n",
    "\n",
    "# save model\n",
    "model.save('C:/Users/604070/Desktop/Files/Opm_Web_App/weights/best.hdf5')\n"
   ]
  },
  {
   "cell_type": "code",
   "execution_count": 7,
   "metadata": {},
   "outputs": [
    {
     "data": {
      "image/png": "[encoded data removed]",
      "text/plain": [
       "<Figure size 432x288 with 1 Axes>"
      ]
     },
     "metadata": {
      "needs_background": "light"
     },
     "output_type": "display_data"
    }
   ],
   "source": [
    "# plot of errors \n",
    "#print(fitted_model.history.keys())\n",
    "\n",
    "plt.plot(fitted_model.history['mean_squared_error'])\n",
    "plt.plot(fitted_model.history['val_mean_squared_error'])\n",
    "plt.title('model accuracy')\n",
    "plt.ylabel('MSE')\n",
    "plt.xlabel('epoch')\n",
    "plt.legend(['train MSE', 'test MSE'], loc='upper right')\n",
    "plt.show()\n"
   ]
  },
  {
   "cell_type": "code",
   "execution_count": 56,
   "metadata": {},
   "outputs": [
    {
     "data": {
      "text/plain": [
       "0.16545829093026523"
      ]
     },
     "execution_count": 56,
     "metadata": {},
     "output_type": "execute_result"
    }
   ],
   "source": [
    "train['ACCT.1'].mean()"
   ]
  },
  {
   "cell_type": "code",
   "execution_count": 57,
   "metadata": {},
   "outputs": [
    {
     "data": {
      "text/plain": [
       "0.37159375523435834"
      ]
     },
     "execution_count": 57,
     "metadata": {},
     "output_type": "execute_result"
    }
   ],
   "source": [
    "train['ACCT.1'].std()"
   ]
  },
  {
   "cell_type": "code",
   "execution_count": 69,
   "metadata": {},
   "outputs": [],
   "source": [
    "def plot_predictions(df_preprocess, df_normal, features):\n",
    "    \n",
    "    df_original = df_preprocess.groupby('EFDATET').sum()\n",
    "    \n",
    "    mean = df_original['ACCT.1'].mean()\n",
    "    \n",
    "    std = df_original['ACCT.1'].std()\n",
    "    \n",
    "    actuals = df_normal['ACCT.1'] * (std + 1) + mean\n",
    "    \n",
    "    predictions = model.predict(features)\n",
    "    \n",
    "    unnormalized_predictions = (predictions * (std + 1) + mean).round()\n",
    "    \n",
    "    actuals = actuals.reset_index()\n",
    "    \n",
    "    table = pd.concat([actuals, pd.DataFrame(unnormalized_predictions, columns = ['PREDICTIONS'])], axis = 1)\n",
    "    \n",
    "    return table "
   ]
  },
  {
   "cell_type": "code",
   "execution_count": 70,
   "metadata": {},
   "outputs": [],
   "source": [
    "train_table = plot_predictions(train, df_train, X_train)"
   ]
  },
  {
   "cell_type": "code",
   "execution_count": 72,
   "metadata": {},
   "outputs": [
    {
     "data": {
      "text/plain": [
       "<matplotlib.axes._subplots.AxesSubplot at 0x18b90223e10>"
      ]
     },
     "execution_count": 72,
     "metadata": {},
     "output_type": "execute_result"
    },
    {
     "data": {
      "image/png": "[encoded data removed]",
      "text/plain": [
       "<Figure size 432x288 with 1 Axes>"
      ]
     },
     "metadata": {
      "needs_background": "light"
     },
     "output_type": "display_data"
    }
   ],
   "source": [
    "#Comparison to training data should cause overfitting\n",
    "\n",
    "train_table[['EFDATET', 'ACCT.1', 'PREDICTIONS']].plot()"
   ]
  },
  {
   "cell_type": "code",
   "execution_count": 73,
   "metadata": {},
   "outputs": [
    {
     "data": {
      "text/html": [
       "<div>\n",
       "<style scoped>\n",
       "    .dataframe tbody tr th:only-of-type {\n",
       "        vertical-align: middle;\n",
       "    }\n",
       "\n",
       "    .dataframe tbody tr th {\n",
       "        vertical-align: top;\n",
       "    }\n",
       "\n",
       "    .dataframe thead th {\n",
       "        text-align: right;\n",
       "    }\n",
       "</style>\n",
       "<table border=\"1\" class=\"dataframe\">\n",
       "  <thead>\n",
       "    <tr style=\"text-align: right;\">\n",
       "      <th></th>\n",
       "      <th>EFDATET</th>\n",
       "      <th>ACCT.1</th>\n",
       "      <th>PREDICTIONS</th>\n",
       "      <th>MONTH</th>\n",
       "    </tr>\n",
       "  </thead>\n",
       "  <tbody>\n",
       "    <tr>\n",
       "      <th>3</th>\n",
       "      <td>JAN 2017</td>\n",
       "      <td>4832.0</td>\n",
       "      <td>5331.0</td>\n",
       "      <td>1</td>\n",
       "    </tr>\n",
       "    <tr>\n",
       "      <th>2</th>\n",
       "      <td>FEB 2017</td>\n",
       "      <td>3208.0</td>\n",
       "      <td>3701.0</td>\n",
       "      <td>2</td>\n",
       "    </tr>\n",
       "    <tr>\n",
       "      <th>6</th>\n",
       "      <td>MAR 2017</td>\n",
       "      <td>3680.0</td>\n",
       "      <td>3769.0</td>\n",
       "      <td>3</td>\n",
       "    </tr>\n",
       "    <tr>\n",
       "      <th>0</th>\n",
       "      <td>APR 2017</td>\n",
       "      <td>3688.0</td>\n",
       "      <td>4183.0</td>\n",
       "      <td>4</td>\n",
       "    </tr>\n",
       "    <tr>\n",
       "      <th>7</th>\n",
       "      <td>MAY 2017</td>\n",
       "      <td>3900.0</td>\n",
       "      <td>4458.0</td>\n",
       "      <td>5</td>\n",
       "    </tr>\n",
       "    <tr>\n",
       "      <th>5</th>\n",
       "      <td>JUN 2017</td>\n",
       "      <td>4371.0</td>\n",
       "      <td>4733.0</td>\n",
       "      <td>6</td>\n",
       "    </tr>\n",
       "    <tr>\n",
       "      <th>4</th>\n",
       "      <td>JUL 2017</td>\n",
       "      <td>4491.0</td>\n",
       "      <td>4544.0</td>\n",
       "      <td>7</td>\n",
       "    </tr>\n",
       "    <tr>\n",
       "      <th>1</th>\n",
       "      <td>AUG 2017</td>\n",
       "      <td>6939.0</td>\n",
       "      <td>5263.0</td>\n",
       "      <td>8</td>\n",
       "    </tr>\n",
       "    <tr>\n",
       "      <th>8</th>\n",
       "      <td>SEP 2017</td>\n",
       "      <td>5124.0</td>\n",
       "      <td>4815.0</td>\n",
       "      <td>9</td>\n",
       "    </tr>\n",
       "  </tbody>\n",
       "</table>\n",
       "</div>"
      ],
      "text/plain": [
       "    EFDATET  ACCT.1  PREDICTIONS  MONTH\n",
       "3  JAN 2017  4832.0       5331.0      1\n",
       "2  FEB 2017  3208.0       3701.0      2\n",
       "6  MAR 2017  3680.0       3769.0      3\n",
       "0  APR 2017  3688.0       4183.0      4\n",
       "7  MAY 2017  3900.0       4458.0      5\n",
       "5  JUN 2017  4371.0       4733.0      6\n",
       "4  JUL 2017  4491.0       4544.0      7\n",
       "1  AUG 2017  6939.0       5263.0      8\n",
       "8  SEP 2017  5124.0       4815.0      9"
      ]
     },
     "execution_count": 73,
     "metadata": {},
     "output_type": "execute_result"
    }
   ],
   "source": [
    "test_table = plot_predictions(test, df_test, X_test)\n",
    "test_table['MONTH'] = pd.DatetimeIndex(test_table['EFDATET']).month\n",
    "test_table.sort_values(by = ['MONTH'], inplace = True)\n",
    "test_table\n"
   ]
  },
  {
   "cell_type": "code",
   "execution_count": 74,
   "metadata": {},
   "outputs": [
    {
     "data": {
      "text/plain": [
       "<matplotlib.axes._subplots.AxesSubplot at 0x18b99ffe4a8>"
      ]
     },
     "execution_count": 74,
     "metadata": {},
     "output_type": "execute_result"
    },
    {
     "data": {
      "image/png": "[encoded data removed]",
      "text/plain": [
       "<Figure size 720x720 with 1 Axes>"
      ]
     },
     "metadata": {
      "needs_background": "light"
     },
     "output_type": "display_data"
    }
   ],
   "source": [
    "ax = plt.gca()\n",
    "test_table.plot(x = 'EFDATET', y= 'ACCT.1', figsize=(10,10), ax = ax)\n",
    "test_table.plot(x = 'EFDATET', y= 'PREDICTIONS', ax = ax)"
   ]
  }
 ],
 "metadata": {
  "kernelspec": {
   "display_name": "Python 3",
   "language": "python",
   "name": "python3"
  },
  "language_info": {
   "codemirror_mode": {
    "name": "ipython",
    "version": 3
   },
   "file_extension": ".py",
   "mimetype": "text/x-python",
   "name": "python",
   "nbconvert_exporter": "python",
   "pygments_lexer": "ipython3",
   "version": "3.6.7"
  }
 },
 "nbformat": 4,
 "nbformat_minor": 2
}
